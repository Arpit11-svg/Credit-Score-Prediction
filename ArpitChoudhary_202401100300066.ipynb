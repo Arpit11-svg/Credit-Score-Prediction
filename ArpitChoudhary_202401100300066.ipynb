{
  "nbformat": 4,
  "nbformat_minor": 0,
  "metadata": {
    "colab": {
      "provenance": [],
      "toc_visible": true
    },
    "kernelspec": {
      "name": "python3",
      "display_name": "Python 3"
    },
    "language_info": {
      "name": "python"
    }
  },
  "cells": [
    {
      "cell_type": "code",
      "source": [
        "import pandas as pd\n",
        "import numpy as np\n",
        "import matplotlib.pyplot as plt\n",
        "import seaborn as sns\n",
        "from sklearn.model_selection import train_test_split\n",
        "from sklearn.preprocessing import StandardScaler, LabelEncoder\n",
        "from sklearn.ensemble import RandomForestClassifier\n",
        "from sklearn.metrics import accuracy_score, classification_report, confusion_matrix\n",
        "\n",
        "# Load the dataset\n",
        "df = pd.read_csv(\"/content/credit_data.csv\")\n",
        "\n",
        "# Display basic info\n",
        "print(df.head())  # ✅ Use print() instead of display()\n",
        "df.info()  # ✅ Just call df.info()\n",
        "\n",
        "# Handling missing values\n",
        "df.dropna(inplace=True)\n",
        "\n",
        "# Encoding categorical columns (if any)\n",
        "for col in df.select_dtypes(include=['object']).columns:\n",
        "    df[col] = LabelEncoder().fit_transform(df[col])\n",
        "\n",
        "# Check if 'Credit_Score' or a similar column exists in the DataFrame\n",
        "print(df.columns) # Print the columns to verify\n",
        "\n",
        "# If 'Credit_Score' is not found, you might need to adjust the column name.\n",
        "# Let's assume the target column is named 'credit_score' (lowercase)\n",
        "target_column = 'Credit_Score'\n",
        "# If the column is not found, try looking for similar names and update target_column\n",
        "if target_column not in df.columns:\n",
        "    potential_targets = [col for col in df.columns if 'credit' in col.lower() and 'score' in col.lower()]\n",
        "    if potential_targets:\n",
        "        target_column = potential_targets[0]\n",
        "        print(f\"Using '{target_column}' as the target column instead of 'Credit_Score'\")\n",
        "    else:\n",
        "        raise KeyError(f\"'Credit_Score' or similar column not found in the dataset. Please check the data.\")\n",
        "\n",
        "\n",
        "# Splitting features and target variable\n",
        "X = df.drop(columns=[target_column])\n",
        "y = df[target_column]\n",
        "\n",
        "# Splitting data into train and test sets\n",
        "X_train, X_test, y_train, y_test = train_test_split(X, y, test_size=0.2, random_state=42)\n",
        "\n",
        "# Feature scaling\n",
        "scaler = StandardScaler()\n",
        "X_train = scaler.fit_transform(X_train)\n",
        "X_test = scaler.transform(X_test)\n",
        "\n",
        "# Model training (Random Forest Classifier)\n",
        "model = RandomForestClassifier(n_estimators=100, random_state=42)\n",
        "model.fit(X_train, y_train)\n",
        "\n",
        "# Predictions\n",
        "y_pred = model.predict(X_test)\n",
        "\n",
        "# Model evaluation\n",
        "print(\"Accuracy Score:\", accuracy_score(y_test, y_pred))\n",
        "print(\"Classification Report:\\n\", classification_report(y_test, y_pred))\n",
        "print(\"Confusion Matrix:\\n\", confusion_matrix(y_test, y_pred))\n",
        "\n",
        "# Feature importance visualization (Fixed)\n",
        "feature_importances = pd.Series(model.feature_importances_, index=X.columns)\n",
        "feature_importances.nlargest(10).plot(kind='barh')  # ✅ Fixed the issue\n",
        "plt.show()  # ✅ Show the plot"
      ],
      "metadata": {
        "colab": {
          "base_uri": "https://localhost:8080/",
          "height": 1000
        },
        "id": "iw8vl8wEl6Kn",
        "outputId": "cfbb955e-9493-4c56-e9fb-96901dc78374"
      },
      "execution_count": 11,
      "outputs": [
        {
          "output_type": "stream",
          "name": "stdout",
          "text": [
            "   CustomerID  Age  Income  LoanAmount  CreditScore\n",
            "0           1   34   63961       13576          531\n",
            "1           2   50   34158       19395          323\n",
            "2           3   67   92702       37663          416\n",
            "3           4   26   84846       44572          747\n",
            "4           5   58   40787       25598          805\n",
            "<class 'pandas.core.frame.DataFrame'>\n",
            "RangeIndex: 20 entries, 0 to 19\n",
            "Data columns (total 5 columns):\n",
            " #   Column       Non-Null Count  Dtype\n",
            "---  ------       --------------  -----\n",
            " 0   CustomerID   20 non-null     int64\n",
            " 1   Age          20 non-null     int64\n",
            " 2   Income       20 non-null     int64\n",
            " 3   LoanAmount   20 non-null     int64\n",
            " 4   CreditScore  20 non-null     int64\n",
            "dtypes: int64(5)\n",
            "memory usage: 932.0 bytes\n",
            "Index(['CustomerID', 'Age', 'Income', 'LoanAmount', 'CreditScore'], dtype='object')\n",
            "Using 'CreditScore' as the target column instead of 'Credit_Score'\n",
            "Accuracy Score: 0.0\n",
            "Classification Report:\n",
            "               precision    recall  f1-score   support\n",
            "\n",
            "         323       0.00      0.00      0.00       1.0\n",
            "         332       0.00      0.00      0.00       1.0\n",
            "         445       0.00      0.00      0.00       1.0\n",
            "         531       0.00      0.00      0.00       1.0\n",
            "         673       0.00      0.00      0.00       0.0\n",
            "         707       0.00      0.00      0.00       0.0\n",
            "         805       0.00      0.00      0.00       0.0\n",
            "         807       0.00      0.00      0.00       0.0\n",
            "\n",
            "    accuracy                           0.00       4.0\n",
            "   macro avg       0.00      0.00      0.00       4.0\n",
            "weighted avg       0.00      0.00      0.00       4.0\n",
            "\n",
            "Confusion Matrix:\n",
            " [[0 0 0 0 0 0 1 0]\n",
            " [0 0 0 0 0 1 0 0]\n",
            " [0 0 0 0 0 0 0 1]\n",
            " [0 0 0 0 1 0 0 0]\n",
            " [0 0 0 0 0 0 0 0]\n",
            " [0 0 0 0 0 0 0 0]\n",
            " [0 0 0 0 0 0 0 0]\n",
            " [0 0 0 0 0 0 0 0]]\n"
          ]
        },
        {
          "output_type": "stream",
          "name": "stderr",
          "text": [
            "/usr/local/lib/python3.11/dist-packages/sklearn/metrics/_classification.py:1565: UndefinedMetricWarning: Precision is ill-defined and being set to 0.0 in labels with no predicted samples. Use `zero_division` parameter to control this behavior.\n",
            "  _warn_prf(average, modifier, f\"{metric.capitalize()} is\", len(result))\n",
            "/usr/local/lib/python3.11/dist-packages/sklearn/metrics/_classification.py:1565: UndefinedMetricWarning: Recall is ill-defined and being set to 0.0 in labels with no true samples. Use `zero_division` parameter to control this behavior.\n",
            "  _warn_prf(average, modifier, f\"{metric.capitalize()} is\", len(result))\n",
            "/usr/local/lib/python3.11/dist-packages/sklearn/metrics/_classification.py:1565: UndefinedMetricWarning: Precision is ill-defined and being set to 0.0 in labels with no predicted samples. Use `zero_division` parameter to control this behavior.\n",
            "  _warn_prf(average, modifier, f\"{metric.capitalize()} is\", len(result))\n",
            "/usr/local/lib/python3.11/dist-packages/sklearn/metrics/_classification.py:1565: UndefinedMetricWarning: Recall is ill-defined and being set to 0.0 in labels with no true samples. Use `zero_division` parameter to control this behavior.\n",
            "  _warn_prf(average, modifier, f\"{metric.capitalize()} is\", len(result))\n",
            "/usr/local/lib/python3.11/dist-packages/sklearn/metrics/_classification.py:1565: UndefinedMetricWarning: Precision is ill-defined and being set to 0.0 in labels with no predicted samples. Use `zero_division` parameter to control this behavior.\n",
            "  _warn_prf(average, modifier, f\"{metric.capitalize()} is\", len(result))\n",
            "/usr/local/lib/python3.11/dist-packages/sklearn/metrics/_classification.py:1565: UndefinedMetricWarning: Recall is ill-defined and being set to 0.0 in labels with no true samples. Use `zero_division` parameter to control this behavior.\n",
            "  _warn_prf(average, modifier, f\"{metric.capitalize()} is\", len(result))\n"
          ]
        },
        {
          "output_type": "display_data",
          "data": {
            "text/plain": [
              "<Figure size 640x480 with 1 Axes>"
            ],
            "image/png": "[encoded data removed]"
          },
          "metadata": {}
        }
      ]
    }
  ]
}